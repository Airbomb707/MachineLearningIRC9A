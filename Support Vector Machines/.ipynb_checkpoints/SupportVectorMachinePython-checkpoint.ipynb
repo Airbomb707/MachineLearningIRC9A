{
 "cells": [
  {
   "cell_type": "markdown",
   "id": "79b2ae97-b5bc-44ad-8d15-01a8560bc0c7",
   "metadata": {},
   "source": [
    "# State Vector Machine (SVM) Implementation"
   ]
  },
  {
   "cell_type": "markdown",
   "id": "40bc033d-b3dc-46e0-8846-631be14a34dc",
   "metadata": {},
   "source": [
    "#### Importing necessary libraries:"
   ]
  },
  {
   "cell_type": "markdown",
   "id": "5b9fafe5-960a-4278-a16c-e4f7ecbe7e7d",
   "metadata": {},
   "source": [
    "- pandas for handling datasets\n",
    "- matplotlib for data visualization\n",
    "- NumPy for mathematical operations\n",
    "- sklearn.utils -> shuffle for shuffling data\n",
    "- sklearn.model_selection -> train_test_splitfor splitting datasets into a training and a testing set\n",
    "- sklearn.metrics -> accuracy_score to measure the accuracy of the model"
   ]
  },
  {
   "cell_type": "code",
   "execution_count": 1,
   "id": "edebcd72-7262-49fb-91a5-b0b9b9d43d43",
   "metadata": {},
   "outputs": [],
   "source": [
    "import pandas as pd\n",
    "import matplotlib.pyplot as plt\n",
    "import numpy as np\n",
    "from sklearn.utils import shuffle\n",
    "from sklearn.model_selection import train_test_split\n",
    "from sklearn.metrics import accuracy_score"
   ]
  },
  {
   "cell_type": "markdown",
   "id": "b7883deb-c70d-46d5-96a7-dc46f3743893",
   "metadata": {},
   "source": [
    "#### Data pre-processing and visualization"
   ]
  },
  {
   "cell_type": "markdown",
   "id": "25c5e58c-ee7b-4ac4-959a-3d493ffe03c6",
   "metadata": {},
   "source": [
    "Since the Iris dataset has three classes, we will remove one of the classes. This leaves us with a binary class classification problem.\n",
    "\n",
    "We load a dataset and remove the identifier column. Then extract the target column from the DataFrame, then remove rows with indices from 100 to 149, which contain the 'virginica' class.\n",
    "\n",
    "Sets automatically ensure that only unique values are stored. For each value encountered in the \"target\" column, add that value to the \"s\" set."
   ]
  },
  {
   "cell_type": "code",
   "execution_count": 2,
   "id": "a2e1029b-1b3a-4adb-a242-cee4d3b9c409",
   "metadata": {},
   "outputs": [],
   "source": [
    "df = pd.read_csv('./datasets/iris2.csv')\n",
    "df = df.drop(['Id'],axis=1) # Delete ID column\n",
    "target = df['Species']\n",
    "s = set()\n",
    "for val in target:\n",
    "    s.add(val) # Add unique values\n",
    "s = list(s)\n",
    "rows = list(range(100,150)) # Select virginica rows\n",
    "df = df.drop(df.index[rows]) # Delete rows"
   ]
  },
  {
   "cell_type": "markdown",
   "id": "6b79196e-f970-4ed3-8738-08c70c375f5a",
   "metadata": {},
   "source": [
    "Assign 'SepalLengthCm' and 'PetalLengthCm' to ***x*** and ***y***, respectively. slice the first 50 rows of ***x*** and ***y***, which have the Setosa label, then slice the remaining 50 rows which contain the Versicolor label.\n",
    "\n",
    "We initialize a new figure for the plot and create a scatter plot for the Setosa species using the sepal length (***setosa_x***) on the x-axis and petal length (***setosa_y***) on the y-axis. The data points are marked with a plus sign and are displayed in green.\n",
    "\n",
    "Also create a scatter plot for the Versicolor species, sepal length (***versicolor_x***) on the x-axis and petal length (***versicolor_y***) on the y-axis. Mark with an underscore and display in red.\n",
    "\n",
    "Finally, display the scatter plot."
   ]
  },
  {
   "cell_type": "code",
   "execution_count": 3,
   "id": "3c253080-a26c-41a1-a0fe-b893b0a600e0",
   "metadata": {},
   "outputs": [
    {
     "data": {
      "image/png": "[encoded data removed]",
      "text/plain": [
       "<Figure size 800x600 with 1 Axes>"
      ]
     },
     "metadata": {},
     "output_type": "display_data"
    }
   ],
   "source": [
    "x = df['SepalLengthCm']\n",
    "y = df['PetalLengthCm']\n",
    "\n",
    "setosa_x = x[:50] # Separate the data for Setosa and Versicolor species\n",
    "setosa_y = y[:50]\n",
    "\n",
    "versicolor_x = x[50:]\n",
    "versicolor_y = y[50:]\n",
    "\n",
    "plt.figure(figsize=(8,6))\n",
    "plt.scatter(setosa_x, setosa_y, marker='+', color='green', label='Setosa')\n",
    "plt.scatter(versicolor_x, versicolor_y, marker='_', color='red', label='Versicolor')\n",
    "plt.xlabel('Sepal Length (cm)')  # X-axis label\n",
    "plt.ylabel('Petal Length (cm)')  # Y-axis label\n",
    "plt.legend()  # Display the legend to distinguish Setosa and Versicolor\n",
    "plt.show()"
   ]
  },
  {
   "cell_type": "markdown",
   "id": "2f0fdd01-bf9f-4818-8f27-53969ca83989",
   "metadata": {},
   "source": [
    "The scatter plot displays individual data points for each flower in the dataset. The data points for Setosa and Versicolor are separated into two distinct clusters on the plot.\n",
    "\n",
    "Observe that there is a clear separation between Setosa and Versicolor based on their sepal and petal measurements.\n",
    "\n",
    "---"
   ]
  },
  {
   "cell_type": "markdown",
   "id": "fe0fc5fa-9fd5-4198-87c5-b4dd68dcda0b",
   "metadata": {},
   "source": [
    "#### Training the SVM"
   ]
  },
  {
   "cell_type": "markdown",
   "id": "14b3793f-4aaf-4a64-a6b1-f56fe1f91e50",
   "metadata": {},
   "source": [
    "Now it's time for training. We extract the required features and split it into training and testing data.\n",
    "\n",
    "First, drop *SepalWidthCm* and *PetalWidthCm*. The remaining features are sepal length and petal length, which we use for classification. Then create a list ***Y*** based on the *Species* column, if the species is 'Iris-setosa,' it appends -1 to ***Y***, and if it's any other species, it appends 1.\n",
    "\n",
    "Since the *'Species'* column has been transformed into the binary labels in ***Y*** after extracting the target label, we drop it from the dataset.\n",
    "\n",
    "In order to avoid any potential bias in the original order of the data, shuffle ***X*** and ***Y*** randomly.\n",
    "\n",
    "The dataset is split into training and test sets. 80% of the data is used for training and 20% is used for testing. Afterwards, we convert them to NumPy arrays and reshape the ***y_train*** and ***y_test*** arrays to ensure they have the shape (n, 1).\n",
    "\n",
    "Basically, when reshaping an array to have the shape (n, 1), (where 'n' is the number of samples), we are converting a 1-dimensional array into a 2-dimensional column vector. The '1' in (n, 1) means that we have one column of data, and 'n' rows.\n",
    "\n",
    "> **Note:** the **'- 1'** in the reshape function tells NumPy to automatically calculate the number of rows based on the length of the input array."
   ]
  },
  {
   "cell_type": "code",
   "execution_count": 4,
   "id": "147ad0a5-f3bb-4322-976b-0f4d7c5c721c",
   "metadata": {},
   "outputs": [],
   "source": [
    "## Drop rest of the features and extract the target values\n",
    "df = df.drop(['SepalWidthCm','PetalWidthCm'],axis=1)\n",
    "Y = []\n",
    "target = df['Species']\n",
    "for val in target:\n",
    "    if(val == 'Iris-setosa'):\n",
    "        Y.append(-1)\n",
    "    else:\n",
    "        Y.append(1)\n",
    "df = df.drop(['Species'],axis=1)\n",
    "X = df.values.tolist()\n",
    "## Shuffle and split the data into training and test set\n",
    "X, Y = shuffle(X,Y)\n",
    "x_train = []\n",
    "y_train = []\n",
    "x_test = []\n",
    "y_test = []\n",
    "\n",
    "x_train, x_test, y_train, y_test = train_test_split(X, Y, train_size=0.8)\n",
    "\n",
    "x_train = np.array(x_train)\n",
    "y_train = np.array(y_train)\n",
    "x_test = np.array(x_test)\n",
    "y_test = np.array(y_test)\n",
    "\n",
    "y_train = y_train.reshape(-1, 1)\n",
    "y_test = y_test.reshape(-1, 1) "
   ]
  },
  {
   "cell_type": "markdown",
   "id": "2a40a4fb-08f7-426d-80ec-e2c20a39ed05",
   "metadata": {},
   "source": [
    "$\\alpha$ is the learning rate, which determines the step size for updating the weight vectors ***w1*** and ***w2*** during each iteration of the gradient descent.\n",
    "\n",
    "***epochs*** is the number of training iterations, which sets an upper limit on how many times the SVM updates its weight vectors.\n",
    "\n",
    "The regularization parameter ***λ*** is set to **'1 / epochs'**. As the number of epochs increases, the regularization value decreases\n",
    "\n",
    "We begin by extracting *train_f1* and *train_f2*, from the training data: ***x_train[:, 0]*** extracts all the values from the first column *(feature 0)* of the x_train array. This creates a new one-dimensional array which contains the values of the first feature column for all training samples.\n",
    "\n",
    "Similarly, ***x_train[:, 1]*** extracts all the values from the second column to create another one-dimensional array containing the values of the second feature.\n",
    "\n",
    "These features are reshaped into column vectors to make them compatible with the SVM implementation.\n",
    "\n",
    "Zero initialization provides a good starting point for optimization algorithms like gradient descent, hence, we initialize ***w1*** and ***w2*** with **np.zeros((80,1))** *(two-dimensional column vectors with 80 rows and 1 column)*\n",
    "\n",
    "We enter the training loop with a maximum of 10,000 epochs. Inside the loop, calculate the decision function ***y*** as a linear combination of the features and weight vectors: *y = w1 * train_f1 + w2 * train_f2*. Then calculate the product of ***y*** and the training labels.\n",
    "\n",
    "For each value in ***prod***, check if it's greater than or equal to 1. If it is,set the cost to 0, and update the weight vectors by subtracting the regularization term. \n",
    "\n",
    "If ***prod*** is less than 1, calculate the cost as ***1 - val*** and update the weight vectors using gradient descent.\n",
    "\n",
    "We use ***count*** to keep track of the training data index, and increase the ***epochs*** counter for each complete pass through the training data."
   ]
  },
  {
   "cell_type": "code",
   "execution_count": 5,
   "id": "0cb253ce-035f-43e1-aab1-0ccb3cc3c1d8",
   "metadata": {},
   "outputs": [],
   "source": [
    "# Support Vector Machine\n",
    "train_f1 = x_train[:,0]\n",
    "train_f2 = x_train[:,1]\n",
    "\n",
    "train_f1 = train_f1.reshape(-1,1)\n",
    "train_f2 = train_f2.reshape(-1,1)\n",
    "\n",
    "w1 = np.zeros((80,1))\n",
    "w2 = np.zeros((80,1))\n",
    "# '-1' = automatically calculate the number of rows\n",
    "\n",
    "epochs = 1\n",
    "alpha = 0.0001\n",
    "\n",
    "while(epochs < 10000):\n",
    "    y = w1 * train_f1 + w2 * train_f2\n",
    "    prod = y * y_train\n",
    "    #print(epochs)\n",
    "    count = 0\n",
    "    for val in prod:\n",
    "        if(val >= 1):\n",
    "            cost = 0\n",
    "            w1 = w1 - alpha * (2 * 1/epochs * w1)\n",
    "            w2 = w2 - alpha * (2 * 1/epochs * w2)\n",
    "            \n",
    "        else:\n",
    "            cost = 1 - val \n",
    "            w1 = w1 + alpha * (train_f1[count] * y_train[count] - 2 * 1/epochs * w1)\n",
    "            w2 = w2 + alpha * (train_f2[count] * y_train[count] - 2 * 1/epochs * w2)\n",
    "        count += 1\n",
    "    epochs += 1"
   ]
  },
  {
   "cell_type": "markdown",
   "id": "0c4e9a8d-6e6a-420b-bdf8-09f0db98d76e",
   "metadata": {},
   "source": [
    "#### Visualizing Results"
   ]
  },
  {
   "cell_type": "markdown",
   "id": "f622329a-138f-4179-b6e1-12eeb5b5db11",
   "metadata": {},
   "source": [
    "We now clip the weights as the test data contains only 20 data points. We extract the features from the test data and predict the values. We obtain the predictions and compare it with the actual values and print the accuracy of our model.\n",
    "\n",
    "We remove elements 20 to 79 from the weight vectors so only 20 support vectors are retained, then reshape them to column vectors. Next, extract test data features, similarly to the training data, and reshape them to column vectors.\n",
    "\n",
    "We then proceed to make predictions using the clipped and reshaped weight vectors and the test features.\n",
    "\n",
    "Predictions are made based on the decision values. If a value in ***y_pred*** is greater than 1, append a 1 to the ***predictions*** list; otherwise, append -1.\n",
    "\n",
    "For the accuracy score, we compare the predicted labels with the true labels from the test dataset, and print the result as a percentage."
   ]
  },
  {
   "cell_type": "code",
   "execution_count": 6,
   "id": "c5b8dda5-4e4b-4549-9cea-62db30d16ce8",
   "metadata": {},
   "outputs": [
    {
     "name": "stdout",
     "output_type": "stream",
     "text": [
      "Accuracy: 100.00%\n"
     ]
    }
   ],
   "source": [
    "## Clip the weights \n",
    "index = list(range(20,80))\n",
    "w1 = np.delete(w1,index)\n",
    "w2 = np.delete(w2,index)\n",
    "\n",
    "w1 = w1.reshape(20,1)\n",
    "w2 = w2.reshape(20,1)\n",
    "## Extract the test data features \n",
    "test_f1 = x_test[:,0]\n",
    "test_f2 = x_test[:,1]\n",
    "\n",
    "test_f1 = test_f1.reshape(20,1)\n",
    "test_f2 = test_f2.reshape(20,1)\n",
    "## Predict\n",
    "y_pred = w1 * test_f1 + w2 * test_f2\n",
    "predictions = []\n",
    "for val in y_pred:\n",
    "    if(val > 1):\n",
    "        predictions.append(1)\n",
    "    else:\n",
    "        predictions.append(-1)\n",
    "\n",
    "# Print accuracy\n",
    "acc_text = f'Accuracy: {accuracy_score(y_test, predictions) * 100:.2f}%'\n",
    "print(acc_text) "
   ]
  },
  {
   "cell_type": "markdown",
   "id": "9f8ea068-941a-44dc-9731-c592aa05c500",
   "metadata": {},
   "source": [
    "To better visualize the svm implementation and the results we can plot the data points and include the calculated decision boundary.\n",
    "\n",
    "We reuse our previous scatter plot for the Setosa and Versicolor species using the Sepal Length and Petal Length. To this we generate points along the X-axis using ***np.linspace*** and calculate the corresponding Y-axis values based on the decision boundary. \n",
    "\n",
    "The decision boundary is shown as a blue line with a solid **( - )** linestyle."
   ]
  },
  {
   "cell_type": "markdown",
   "id": "39085ac1-a4ed-4f05-8393-5014e823395d",
   "metadata": {},
   "source": [
    "***x_decision_boundary*** is an array of 20 equally spaced points between the minimum and maximum values of ***train_f1***. The decision_boundary values are calculated based on the weights ***w1*** and ***w2***.\n",
    "\n",
    "$(w_1^2 + w_2^2)$ is the squared magnitude of the weight vector. We then get the square root of the squared magnitude, which gives us the Euclidean norm or the length of the weight vector. $(\\sqrt{w_1^2 + w_2^2})$ \n",
    "\n",
    "$(\\frac{1}{\\sqrt{w_1^2 + w_2^2}})$ is the reciprocal of the length of the weight vector. In other words, a measure of the distance from the origin to the hyperplane defined by the weight vector. In other, other words, the margin.\n",
    "\n",
    "We calculate the upper and lower margins by adding and subtracting the margin distance from the decision boundary, respectively."
   ]
  },
  {
   "cell_type": "code",
   "execution_count": 10,
   "id": "68d10810-0d94-48a4-b826-9184368ae6e2",
   "metadata": {},
   "outputs": [
    {
     "data": {
      "image/png": "[encoded data removed]",
      "text/plain": [
       "<Figure size 800x600 with 1 Axes>"
      ]
     },
     "metadata": {},
     "output_type": "display_data"
    }
   ],
   "source": [
    "# Plotting the decision boundary with automatic margin calculation\n",
    "plt.figure(figsize=(8, 6))\n",
    "plt.scatter(setosa_x, setosa_y, marker='+', color='green', label='Setosa')\n",
    "plt.scatter(versicolor_x, versicolor_y, marker='_', color='red', label='Versicolor')\n",
    "plt.xlabel('Sepal Length (cm)')  # X-axis label\n",
    "plt.ylabel('Petal Length (cm)')  # Y-axis label\n",
    "plt.legend()\n",
    "\n",
    "# Calculate decision boundary\n",
    "x_decision_boundary = np.linspace(min(train_f1), max(train_f1), 20)\n",
    "y_decision_boundary = -(w1/w2) * x_decision_boundary.reshape(-1, 1)  # Reshape x_decision_boundary\n",
    "\n",
    "# Calculate margin distance\n",
    "margin_distance = 1 / np.sqrt(w1**2 + w2**2)\n",
    "\n",
    "# Calculate margins\n",
    "y_margin_upper = y_decision_boundary + margin_distance\n",
    "y_margin_lower = y_decision_boundary - margin_distance\n",
    "\n",
    "# Plot decision boundary\n",
    "plt.plot(x_decision_boundary, y_decision_boundary, linestyle='-', color='blue', label='Decision Boundary')\n",
    "\n",
    "# Plot margins\n",
    "plt.plot(x_decision_boundary, y_margin_upper, linestyle='--', color='gray', label='Upper Margin')\n",
    "plt.plot(x_decision_boundary, y_margin_lower, linestyle='--', color='gray', label='Lower Margin')\n",
    "\n",
    "# Add accuracy percentage as text annotation\n",
    "plt.text(plt.xlim()[0], plt.ylim()[1], acc_text, ha='left', va='bottom', backgroundcolor='white')\n",
    "plt.show()"
   ]
  }
 ],
 "metadata": {
  "kernelspec": {
   "display_name": "Python 3 (ipykernel)",
   "language": "python",
   "name": "python3"
  },
  "language_info": {
   "codemirror_mode": {
    "name": "ipython",
    "version": 3
   },
   "file_extension": ".py",
   "mimetype": "text/x-python",
   "name": "python",
   "nbconvert_exporter": "python",
   "pygments_lexer": "ipython3",
   "version": "3.10.11"
  }
 },
 "nbformat": 4,
 "nbformat_minor": 5
}
